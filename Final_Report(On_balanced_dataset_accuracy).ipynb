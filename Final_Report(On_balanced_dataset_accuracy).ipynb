{
  "nbformat": 4,
  "nbformat_minor": 0,
  "metadata": {
    "colab": {
      "name": "Final_Report(On balanced dataset accuracy).ipynb",
      "provenance": [],
      "include_colab_link": true
    },
    "kernelspec": {
      "name": "python3",
      "display_name": "Python 3"
    }
  },
  "cells": [
    {
      "cell_type": "markdown",
      "metadata": {
        "id": "view-in-github",
        "colab_type": "text"
      },
      "source": [
        "<a href=\"https://colab.research.google.com/github/arghac14/UndErNsembled/blob/master/Final_Report(On_balanced_dataset_accuracy).ipynb\" target=\"_parent\"><img src=\"https://colab.research.google.com/assets/colab-badge.svg\" alt=\"Open In Colab\"/></a>"
      ]
    },
    {
      "cell_type": "code",
      "metadata": {
        "colab": {
          "base_uri": "https://localhost:8080/",
          "height": 230
        },
        "id": "67MMoyVDRAHX",
        "outputId": "3f60771d-89d1-4e7b-d6f4-fe9a564ac19e"
      },
      "source": [
        "import pandas as pd\n",
        "report = {\n",
        "    \"Dataset\":[\"Colon-Cancer\",\"Breast-Cancer\",\"Pima-Diabetes\"],\n",
        "    \"Acc%(KNN)\":[92.2,98.245614,81.23],\n",
        "    \"Acc%(KNN_bagging)\":[71.4,98.421053,76.25],\n",
        "    \"Acc%(KNN_boosting)\":[72.2,98.421053,78.5],\n",
        "    \"Acc%(LR)\":[87.1,97.368421, 73.125],\n",
        "    \"Acc%(LR_bagging)\":[85.7,98.245614,75.87],\n",
        "    \"Acc%(LR_boosting)\":[85.7,97.368421, 75.21],\n",
        "    \"Acc%(DT)\":[78.5,98.245614, 83.64],\n",
        "    \"Acc%(DT_bagging)\":[78.5,98.245614, 81.2],\n",
        "    \"Acc%(DT_boosting)\":[71.4,99.122807, 81.2],\n",
        "    \"Acc%(SVM)\":[71.4,96.491228, 74.79],\n",
        "    \"Acc%(SVM_bagging)\":[92.8,98.245614, 73.12],\n",
        "    \"Acc%(SVM_boosting)\":[91.4,98.24, 73.19],\n",
        "    \"Acc%(RM)\":[92.8,99.120000, 75.62],\n",
        "    \"Acc%(RM_bagging)\":[92.8,99.120000, 75.62],\n",
        "    \"Acc%(RM_boosting)\":[92.8,99.120000, 75.62]\n",
        "}\n",
        "report = pd.DataFrame(report)\n",
        "report"
      ],
      "execution_count": 29,
      "outputs": [
        {
          "output_type": "execute_result",
          "data": {
            "text/html": [
              "<div>\n",
              "<style scoped>\n",
              "    .dataframe tbody tr th:only-of-type {\n",
              "        vertical-align: middle;\n",
              "    }\n",
              "\n",
              "    .dataframe tbody tr th {\n",
              "        vertical-align: top;\n",
              "    }\n",
              "\n",
              "    .dataframe thead th {\n",
              "        text-align: right;\n",
              "    }\n",
              "</style>\n",
              "<table border=\"1\" class=\"dataframe\">\n",
              "  <thead>\n",
              "    <tr style=\"text-align: right;\">\n",
              "      <th></th>\n",
              "      <th>Dataset</th>\n",
              "      <th>Acc%(KNN)</th>\n",
              "      <th>Acc%(KNN_bagging)</th>\n",
              "      <th>Acc%(KNN_boosting)</th>\n",
              "      <th>Acc%(LR)</th>\n",
              "      <th>Acc%(LR_bagging)</th>\n",
              "      <th>Acc%(LR_boosting)</th>\n",
              "      <th>Acc%(DT)</th>\n",
              "      <th>Acc%(DT_bagging)</th>\n",
              "      <th>Acc%(DT_boosting)</th>\n",
              "      <th>Acc%(SVM)</th>\n",
              "      <th>Acc%(SVM_bagging)</th>\n",
              "      <th>Acc%(SVM_boosting)</th>\n",
              "      <th>Acc%(RM)</th>\n",
              "      <th>Acc%(RM_bagging)</th>\n",
              "      <th>Acc%(RM_boosting)</th>\n",
              "    </tr>\n",
              "  </thead>\n",
              "  <tbody>\n",
              "    <tr>\n",
              "      <th>0</th>\n",
              "      <td>Colon-Cancer</td>\n",
              "      <td>92.200000</td>\n",
              "      <td>71.400000</td>\n",
              "      <td>72.200000</td>\n",
              "      <td>87.100000</td>\n",
              "      <td>85.700000</td>\n",
              "      <td>85.700000</td>\n",
              "      <td>78.500000</td>\n",
              "      <td>78.500000</td>\n",
              "      <td>71.400000</td>\n",
              "      <td>71.400000</td>\n",
              "      <td>92.800000</td>\n",
              "      <td>91.40</td>\n",
              "      <td>92.80</td>\n",
              "      <td>92.80</td>\n",
              "      <td>92.80</td>\n",
              "    </tr>\n",
              "    <tr>\n",
              "      <th>1</th>\n",
              "      <td>Breast-Cancer</td>\n",
              "      <td>98.245614</td>\n",
              "      <td>98.421053</td>\n",
              "      <td>98.421053</td>\n",
              "      <td>97.368421</td>\n",
              "      <td>98.245614</td>\n",
              "      <td>97.368421</td>\n",
              "      <td>98.245614</td>\n",
              "      <td>98.245614</td>\n",
              "      <td>99.122807</td>\n",
              "      <td>96.491228</td>\n",
              "      <td>98.245614</td>\n",
              "      <td>98.24</td>\n",
              "      <td>99.12</td>\n",
              "      <td>99.12</td>\n",
              "      <td>99.12</td>\n",
              "    </tr>\n",
              "    <tr>\n",
              "      <th>2</th>\n",
              "      <td>Pima-Diabetes</td>\n",
              "      <td>81.230000</td>\n",
              "      <td>76.250000</td>\n",
              "      <td>78.500000</td>\n",
              "      <td>73.125000</td>\n",
              "      <td>75.870000</td>\n",
              "      <td>75.210000</td>\n",
              "      <td>83.640000</td>\n",
              "      <td>81.200000</td>\n",
              "      <td>81.200000</td>\n",
              "      <td>74.790000</td>\n",
              "      <td>73.120000</td>\n",
              "      <td>73.19</td>\n",
              "      <td>75.62</td>\n",
              "      <td>75.62</td>\n",
              "      <td>75.62</td>\n",
              "    </tr>\n",
              "  </tbody>\n",
              "</table>\n",
              "</div>"
            ],
            "text/plain": [
              "         Dataset  Acc%(KNN)  ...  Acc%(RM_bagging)  Acc%(RM_boosting)\n",
              "0   Colon-Cancer  92.200000  ...             92.80              92.80\n",
              "1  Breast-Cancer  98.245614  ...             99.12              99.12\n",
              "2  Pima-Diabetes  81.230000  ...             75.62              75.62\n",
              "\n",
              "[3 rows x 16 columns]"
            ]
          },
          "metadata": {
            "tags": []
          },
          "execution_count": 29
        }
      ]
    },
    {
      "cell_type": "code",
      "metadata": {
        "colab": {
          "base_uri": "https://localhost:8080/"
        },
        "id": "s-DAPedENMdM",
        "outputId": "c93dd8ce-9052-4af0-952d-7496d9d0559a"
      },
      "source": [
        "\n",
        "list(report.mean())"
      ],
      "execution_count": 31,
      "outputs": [
        {
          "output_type": "execute_result",
          "data": {
            "text/plain": [
              "[90.558538,\n",
              " 82.02368433333334,\n",
              " 83.040351,\n",
              " 85.86447366666665,\n",
              " 86.60520466666667,\n",
              " 86.092807,\n",
              " 86.79520466666666,\n",
              " 85.98187133333333,\n",
              " 83.90760233333333,\n",
              " 80.89374266666668,\n",
              " 88.05520466666667,\n",
              " 87.61,\n",
              " 89.18,\n",
              " 89.18,\n",
              " 89.18]"
            ]
          },
          "metadata": {
            "tags": []
          },
          "execution_count": 31
        }
      ]
    },
    {
      "cell_type": "code",
      "metadata": {
        "colab": {
          "base_uri": "https://localhost:8080/",
          "height": 284
        },
        "id": "QOjhE3Qsq3cz",
        "outputId": "a2ef8b24-ee64-47f5-afae-f899b0da997f"
      },
      "source": [
        "import pandas as pd\n",
        "import numpy as np\n",
        "df = pd.DataFrame(report)\n",
        "df.plot.box(grid='True')"
      ],
      "execution_count": 37,
      "outputs": [
        {
          "output_type": "execute_result",
          "data": {
            "text/plain": [
              "<matplotlib.axes._subplots.AxesSubplot at 0x7fb1ec2f8590>"
            ]
          },
          "metadata": {
            "tags": []
          },
          "execution_count": 37
        },
        {
          "output_type": "display_data",
          "data": {
            "image/png": "[encoded data removed]",
            "text/plain": [
              "<Figure size 432x288 with 1 Axes>"
            ]
          },
          "metadata": {
            "tags": [],
            "needs_background": "light"
          }
        }
      ]
    },
    {
      "cell_type": "code",
      "metadata": {
        "colab": {
          "base_uri": "https://localhost:8080/",
          "height": 17
        },
        "id": "ZVYCf0j8VQED",
        "outputId": "3301f4b0-16ee-4be1-8b8e-1cae86d48f2d"
      },
      "source": [
        "report.to_csv('Final_report.csv', index = False)\n",
        "from google.colab import files\n",
        "files.download(\"Final_report.csv\")"
      ],
      "execution_count": 32,
      "outputs": [
        {
          "output_type": "display_data",
          "data": {
            "application/javascript": [
              "\n",
              "    async function download(id, filename, size) {\n",
              "      if (!google.colab.kernel.accessAllowed) {\n",
              "        return;\n",
              "      }\n",
              "      const div = document.createElement('div');\n",
              "      const label = document.createElement('label');\n",
              "      label.textContent = `Downloading \"${filename}\": `;\n",
              "      div.appendChild(label);\n",
              "      const progress = document.createElement('progress');\n",
              "      progress.max = size;\n",
              "      div.appendChild(progress);\n",
              "      document.body.appendChild(div);\n",
              "\n",
              "      const buffers = [];\n",
              "      let downloaded = 0;\n",
              "\n",
              "      const channel = await google.colab.kernel.comms.open(id);\n",
              "      // Send a message to notify the kernel that we're ready.\n",
              "      channel.send({})\n",
              "\n",
              "      for await (const message of channel.messages) {\n",
              "        // Send a message to notify the kernel that we're ready.\n",
              "        channel.send({})\n",
              "        if (message.buffers) {\n",
              "          for (const buffer of message.buffers) {\n",
              "            buffers.push(buffer);\n",
              "            downloaded += buffer.byteLength;\n",
              "            progress.value = downloaded;\n",
              "          }\n",
              "        }\n",
              "      }\n",
              "      const blob = new Blob(buffers, {type: 'application/binary'});\n",
              "      const a = document.createElement('a');\n",
              "      a.href = window.URL.createObjectURL(blob);\n",
              "      a.download = filename;\n",
              "      div.appendChild(a);\n",
              "      a.click();\n",
              "      div.remove();\n",
              "    }\n",
              "  "
            ],
            "text/plain": [
              "<IPython.core.display.Javascript object>"
            ]
          },
          "metadata": {
            "tags": []
          }
        },
        {
          "output_type": "display_data",
          "data": {
            "application/javascript": [
              "download(\"download_7f5a27f4-18d8-437f-bc3f-3786c6e88776\", \"Final_report.csv\", 572)"
            ],
            "text/plain": [
              "<IPython.core.display.Javascript object>"
            ]
          },
          "metadata": {
            "tags": []
          }
        }
      ]
    }
  ]
}